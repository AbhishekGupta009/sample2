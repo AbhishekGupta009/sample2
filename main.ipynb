{
 "cells": [
  {
   "cell_type": "code",
   "execution_count": 1,
   "id": "d112f038",
   "metadata": {},
   "outputs": [],
   "source": [
    "import os\n",
    "import torch\n",
    "import torch.nn as nn\n",
    "import torchvision.transforms as transforms\n",
    "from torch.utils.data import DataLoader\n",
    "from model import CSRNet\n",
    "from utils import save_net\n",
    "import numpy as np\n",
    "import time\n"
   ]
  },
  {
   "cell_type": "code",
   "execution_count": 2,
   "id": "1fc1403e",
   "metadata": {},
   "outputs": [],
   "source": [
    "from torchvision.datasets import ImageFolder\n",
    "from PIL import Image\n",
    "import h5py\n",
    "from torch.utils.data import Dataset\n",
    "\n",
    "class CrowdDataset(Dataset):\n",
    "    def __init__(self, root, transform=None):\n",
    "        self.root = root\n",
    "        self.transform = transform\n",
    "        self.img_paths = [os.path.join(root, fname) for fname in os.listdir(root) if fname.endswith('.jpg')]\n",
    "\n",
    "    def __len__(self):\n",
    "        return len(self.img_paths)\n",
    "\n",
    "    def __getitem__(self, idx):\n",
    "        img_path = self.img_paths[idx]\n",
    "        gt_path = img_path.replace('.jpg', '.h5').replace('images', 'ground_truth')\n",
    "        \n",
    "        img = Image.open(img_path).convert('RGB')\n",
    "        if self.transform:\n",
    "            img = self.transform(img)\n",
    "        \n",
    "        with h5py.File(gt_path, 'r') as f:\n",
    "            target = np.asarray(f['density'])\n",
    "        target = torch.from_numpy(target).unsqueeze(0).float()\n",
    "        return img, target\n"
   ]
  },
  {
   "cell_type": "code",
   "execution_count": null,
   "id": "f6d56b0c",
   "metadata": {},
   "outputs": [
    {
     "name": "stderr",
     "output_type": "stream",
     "text": [
      "<>:6: SyntaxWarning: invalid escape sequence '\\i'\n",
      "<>:6: SyntaxWarning: invalid escape sequence '\\i'\n",
      "C:\\Users\\abhishekgupta.AD\\AppData\\Local\\Temp\\ipykernel_19640\\373662249.py:6: SyntaxWarning: invalid escape sequence '\\i'\n",
      "  train_dataset = CrowdDataset(root='part_A_final\\train_data\\images', transform=transform)\n",
      "C:\\Users\\abhishekgupta.AD\\AppData\\Local\\Temp\\ipykernel_19640\\373662249.py:6: SyntaxWarning: invalid escape sequence '\\i'\n",
      "  train_dataset = CrowdDataset(root='part_A_final\\train_data\\images', transform=transform)\n"
     ]
    },
    {
     "ename": "NameError",
     "evalue": "name 'transforms' is not defined",
     "output_type": "error",
     "traceback": [
      "\u001b[31m---------------------------------------------------------------------------\u001b[39m",
      "\u001b[31mNameError\u001b[39m                                 Traceback (most recent call last)",
      "\u001b[36mCell\u001b[39m\u001b[36m \u001b[39m\u001b[32mIn[1]\u001b[39m\u001b[32m, line 1\u001b[39m\n\u001b[32m----> \u001b[39m\u001b[32m1\u001b[39m transform = \u001b[43mtransforms\u001b[49m.Compose([\n\u001b[32m      2\u001b[39m     transforms.ToTensor(),\n\u001b[32m      3\u001b[39m     transforms.Normalize(mean=[\u001b[32m0.485\u001b[39m, \u001b[32m0.456\u001b[39m, \u001b[32m0.406\u001b[39m], std=[\u001b[32m0.229\u001b[39m, \u001b[32m0.224\u001b[39m, \u001b[32m0.225\u001b[39m]),\n\u001b[32m      4\u001b[39m ])\n\u001b[32m      6\u001b[39m train_dataset = CrowdDataset(root=\u001b[33m'\u001b[39m\u001b[33mpart_A_final\u001b[39m\u001b[38;5;130;01m\\t\u001b[39;00m\u001b[33mrain_data\u001b[39m\u001b[33m\\\u001b[39m\u001b[33mimages\u001b[39m\u001b[33m'\u001b[39m, transform=transform)\n\u001b[32m      7\u001b[39m train_loader = DataLoader(train_dataset, batch_size=\u001b[32m1\u001b[39m, shuffle=\u001b[38;5;28;01mTrue\u001b[39;00m, num_workers=\u001b[32m0\u001b[39m)\n",
      "\u001b[31mNameError\u001b[39m: name 'transforms' is not defined"
     ]
    }
   ],
   "source": [
    "transform = transforms.Compose([\n",
    "    transforms.ToTensor(),\n",
    "    transforms.Normalize(mean=[0.485, 0.456, 0.406], std=[0.229, 0.224, 0.225]),\n",
    "])\n",
    "\n",
    "train_dataset = CrowdDataset(root='part_A_final\\\\train_data\\\\images', transform=transform)\n",
    "train_loader = DataLoader(train_dataset, batch_size=1, shuffle=True, num_workers=0)\n"
   ]
  },
  {
   "cell_type": "code",
   "execution_count": null,
   "id": "f41de933",
   "metadata": {},
   "outputs": [],
   "source": []
  }
 ],
 "metadata": {
  "kernelspec": {
   "display_name": "Python 3",
   "language": "python",
   "name": "python3"
  },
  "language_info": {
   "codemirror_mode": {
    "name": "ipython",
    "version": 3
   },
   "file_extension": ".py",
   "mimetype": "text/x-python",
   "name": "python",
   "nbconvert_exporter": "python",
   "pygments_lexer": "ipython3",
   "version": "3.12.4"
  }
 },
 "nbformat": 4,
 "nbformat_minor": 5
}
